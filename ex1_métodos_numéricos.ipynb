{
  "nbformat": 4,
  "nbformat_minor": 0,
  "metadata": {
    "colab": {
      "provenance": [],
      "authorship_tag": "ABX9TyPk2GUNsRnJlLha5VK2ai/M",
      "include_colab_link": true
    },
    "kernelspec": {
      "name": "python3",
      "display_name": "Python 3"
    },
    "language_info": {
      "name": "python"
    }
  },
  "cells": [
    {
      "cell_type": "markdown",
      "metadata": {
        "id": "view-in-github",
        "colab_type": "text"
      },
      "source": [
        "<a href=\"https://colab.research.google.com/github/Guhenriquetorres/Analise_Dados_Enem_2021/blob/main/ex1_m%C3%A9todos_num%C3%A9ricos.ipynb\" target=\"_parent\"><img src=\"https://colab.research.google.com/assets/colab-badge.svg\" alt=\"Open In Colab\"/></a>"
      ]
    },
    {
      "cell_type": "code",
      "execution_count": 1,
      "metadata": {
        "colab": {
          "base_uri": "https://localhost:8080/"
        },
        "id": "9UeEvjFW7Y4v",
        "outputId": "4c8f6c07-86bf-433e-9ac4-bdb50fd601e4"
      },
      "outputs": [
        {
          "output_type": "stream",
          "name": "stdout",
          "text": [
            "A profundidade h é aproximadamente: 0.1875 m\n"
          ]
        }
      ],
      "source": [
        "import math\n",
        "\n",
        "def volume(h, r):\n",
        "    return math.pi * (3 * r - h) * (h**2)\n",
        "\n",
        "def bissecao(V, r, a, b, epsilon=0.1):\n",
        "    fa = volume(a, r) - V\n",
        "    fb = volume(b, r) - V\n",
        "\n",
        "    if fa * fb >= 0:\n",
        "        return None  # O método não pode garantir a convergência\n",
        "\n",
        "    while (b - a) / 2 > epsilon:\n",
        "        c = (a + b) / 2\n",
        "        fc = volume(c, r) - V\n",
        "\n",
        "        if fc == 0:\n",
        "            return c  # Encontrou a raiz exata\n",
        "\n",
        "        if fa * fc < 0:\n",
        "            b = c\n",
        "        else:\n",
        "            a = c\n",
        "            fa = fc\n",
        "\n",
        "    return (a + b) / 2\n",
        "\n",
        "# Parâmetros do problema\n",
        "r = 1\n",
        "V = 0.5\n",
        "a = 0\n",
        "b = 1\n",
        "\n",
        "# Chamada da função de bisseção\n",
        "h = bissecao(V, r, a, b)\n",
        "print(\"A profundidade h é aproximadamente:\", round(h, 4), \"m\")\n"
      ]
    },
    {
      "cell_type": "code",
      "source": [
        "import math\n",
        "\n",
        "def f(x):\n",
        "    return math.exp(x**2) - math.cos(x)\n",
        "\n",
        "def df(x):\n",
        "    return 2 * x * math.exp(x**2) + math.sin(x)\n",
        "\n",
        "def newton_raphson(f, df, x0, epsilon):\n",
        "    xn = x0\n",
        "    while True:\n",
        "        fxn = f(xn)\n",
        "        dfxn = df(xn)\n",
        "        if abs(fxn) < epsilon:\n",
        "            return xn\n",
        "        xn = xn - fxn / dfxn\n",
        "\n",
        "# Parâmetros do problema\n",
        "x0 = 1.5\n",
        "epsilon = 0.0004\n",
        "\n",
        "# Chamada da função de Newton-Raphson\n",
        "raiz = newton_raphson(f, df, x0, epsilon)\n",
        "print(\"A aproximação para a raiz é:\", raiz)\n"
      ],
      "metadata": {
        "colab": {
          "base_uri": "https://localhost:8080/"
        },
        "id": "jjJTJXlE8GqS",
        "outputId": "1d9775e3-e040-41c3-a485-98a19b7a5858"
      },
      "execution_count": 3,
      "outputs": [
        {
          "output_type": "stream",
          "name": "stdout",
          "text": [
            "A aproximação para a raiz é: 0.008784403210199262\n"
          ]
        }
      ]
    }
  ]
}